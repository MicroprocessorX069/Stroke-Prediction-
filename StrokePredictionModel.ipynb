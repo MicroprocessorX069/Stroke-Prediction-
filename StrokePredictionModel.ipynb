{
  "nbformat": 4,
  "nbformat_minor": 0,
  "metadata": {
    "colab": {
      "name": "StrokePredictionModel",
      "version": "0.3.2",
      "provenance": [],
      "include_colab_link": true
    },
    "kernelspec": {
      "name": "python3",
      "display_name": "Python 3"
    }
  },
  "cells": [
    {
      "cell_type": "markdown",
      "metadata": {
        "id": "view-in-github",
        "colab_type": "text"
      },
      "source": [
        "<a href=\"https://colab.research.google.com/github/MicroprocessorX069/Stroke-Prediction-/blob/master/StrokePredictionModel.ipynb\" target=\"_parent\"><img src=\"https://colab.research.google.com/assets/colab-badge.svg\" alt=\"Open In Colab\"/></a>"
      ]
    },
    {
      "metadata": {
        "id": "cFbxYJCP7mmT",
        "colab_type": "code",
        "colab": {
          "base_uri": "https://localhost:8080/",
          "height": 122
        },
        "outputId": "4f297f67-837a-42c2-a712-a2770e31686e"
      },
      "cell_type": "code",
      "source": [
        "from google.colab import drive\n",
        "drive.mount('/content/drive/')\n",
        " "
      ],
      "execution_count": 1,
      "outputs": [
        {
          "output_type": "stream",
          "text": [
            "Go to this URL in a browser: https://accounts.google.com/o/oauth2/auth?client_id=947318989803-6bn6qk8qdgf4n4g3pfee6491hc0brc4i.apps.googleusercontent.com&redirect_uri=urn%3Aietf%3Awg%3Aoauth%3A2.0%3Aoob&scope=email%20https%3A%2F%2Fwww.googleapis.com%2Fauth%2Fdocs.test%20https%3A%2F%2Fwww.googleapis.com%2Fauth%2Fdrive%20https%3A%2F%2Fwww.googleapis.com%2Fauth%2Fdrive.photos.readonly%20https%3A%2F%2Fwww.googleapis.com%2Fauth%2Fpeopleapi.readonly&response_type=code\n",
            "\n",
            "Enter your authorization code:\n",
            "··········\n",
            "Mounted at /content/drive/\n"
          ],
          "name": "stdout"
        }
      ]
    },
    {
      "metadata": {
        "id": "2alqmYSJA_gZ",
        "colab_type": "code",
        "colab": {}
      },
      "cell_type": "code",
      "source": [
        "import torch\n",
        "from torch.utils.data import Dataset, DataLoader\n",
        "import pandas as pd\n",
        "import numpy as np\n",
        "import os"
      ],
      "execution_count": 0,
      "outputs": []
    },
    {
      "metadata": {
        "id": "OmRrCmkDdcm-",
        "colab_type": "code",
        "colab": {}
      },
      "cell_type": "code",
      "source": [
        "path=\"/content/drive/My Drive/Projects/StrokePrediction/data/healthcare-dataset-stroke-data\"\n",
        "data= pd.read_csv(os.path.join(path,\"train_2v.csv\")).dropna()\n",
        "data.shape"
      ],
      "execution_count": 0,
      "outputs": []
    },
    {
      "metadata": {
        "id": "8XPPcxl5hF9I",
        "colab_type": "text"
      },
      "cell_type": "markdown",
      "source": [
        "##Features segregation"
      ]
    },
    {
      "metadata": {
        "id": "AY-7p_V0hIfv",
        "colab_type": "code",
        "colab": {
          "base_uri": "https://localhost:8080/",
          "height": 119
        },
        "outputId": "0ce03cc7-c963-46f4-ca61-c56a30efa649"
      },
      "cell_type": "code",
      "source": [
        "categorical_features=[\"gender\",\"ever_married\",\"work_type\",\"Residence_type\",\n",
        "                     \"bmi\",\"smoking_status\"]\n",
        "output_feature=\"stroke\"\n",
        "\n",
        "from sklearn.preprocessing import LabelEncoder\n",
        "label_encoders={}\n",
        "for cat_col in categorical_features:\n",
        "  label_encoders[cat_col]=LabelEncoder()\n",
        "  data[cat_col]=label_encoders[cat_col].fit_transform(data[cat_col])\n"
      ],
      "execution_count": 9,
      "outputs": [
        {
          "output_type": "execute_result",
          "data": {
            "text/plain": [
              "{'Residence_type': LabelEncoder(),\n",
              " 'bmi': LabelEncoder(),\n",
              " 'ever_married': LabelEncoder(),\n",
              " 'gender': LabelEncoder(),\n",
              " 'smoking_status': LabelEncoder(),\n",
              " 'work_type': LabelEncoder()}"
            ]
          },
          "metadata": {
            "tags": []
          },
          "execution_count": 9
        }
      ]
    },
    {
      "metadata": {
        "id": "9G2jVY2giwvB",
        "colab_type": "text"
      },
      "cell_type": "markdown",
      "source": [
        "##Creating object of class 'Tabular Dataset'"
      ]
    },
    {
      "metadata": {
        "id": "DPGsEHSri4P0",
        "colab_type": "code",
        "colab": {
          "base_uri": "https://localhost:8080/",
          "height": 85
        },
        "outputId": "eb582080-d403-4737-9481-dc5d5cae84bf"
      },
      "cell_type": "code",
      "source": [
        "dataset=TabularDataset(data=data,cat_cols=categorical_features,\n",
        "                      output_col=output_feature)\n",
        "dataset[0]"
      ],
      "execution_count": 11,
      "outputs": [
        {
          "output_type": "execute_result",
          "data": {
            "text/plain": [
              "[array([0]),\n",
              " array([3.0468e+04, 5.8000e+01, 1.0000e+00, 0.0000e+00, 8.7960e+01],\n",
              "       dtype=float32),\n",
              " array([  1,   1,   2,   1, 261,   1])]"
            ]
          },
          "metadata": {
            "tags": []
          },
          "execution_count": 11
        }
      ]
    }
  ]
}